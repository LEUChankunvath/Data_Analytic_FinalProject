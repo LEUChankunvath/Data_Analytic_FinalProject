{
 "cells": [
  {
   "cell_type": "markdown",
   "id": "cb24208a-fd81-4609-8d2b-0f2dc5db0d4b",
   "metadata": {},
   "source": [
    "# Package Installation"
   ]
  },
  {
   "cell_type": "code",
   "execution_count": 45,
   "id": "43ee7793-92d5-4186-af8a-c6b385dc0142",
   "metadata": {},
   "outputs": [
    {
     "name": "stdout",
     "output_type": "stream",
     "text": [
      "Requirement already satisfied: pandas in ./lib/python3.11/site-packages (2.1.3)\n",
      "Requirement already satisfied: numpy in ./lib/python3.11/site-packages (1.26.1)\n",
      "Requirement already satisfied: matplotlib in ./lib/python3.11/site-packages (3.8.1)\n",
      "Collecting seaborn\n",
      "  Obtaining dependency information for seaborn from https://files.pythonhosted.org/packages/7b/e5/83fcd7e9db036c179e0352bfcd20f81d728197a16f883e7b90307a88e65e/seaborn-0.13.0-py3-none-any.whl.metadata\n",
      "  Using cached seaborn-0.13.0-py3-none-any.whl.metadata (5.3 kB)\n",
      "Requirement already satisfied: python-dateutil>=2.8.2 in ./lib/python3.11/site-packages (from pandas) (2.8.2)\n",
      "Requirement already satisfied: pytz>=2020.1 in ./lib/python3.11/site-packages (from pandas) (2023.3.post1)\n",
      "Requirement already satisfied: tzdata>=2022.1 in ./lib/python3.11/site-packages (from pandas) (2023.3)\n",
      "Requirement already satisfied: contourpy>=1.0.1 in ./lib/python3.11/site-packages (from matplotlib) (1.2.0)\n",
      "Requirement already satisfied: cycler>=0.10 in ./lib/python3.11/site-packages (from matplotlib) (0.12.1)\n",
      "Requirement already satisfied: fonttools>=4.22.0 in ./lib/python3.11/site-packages (from matplotlib) (4.44.0)\n",
      "Requirement already satisfied: kiwisolver>=1.3.1 in ./lib/python3.11/site-packages (from matplotlib) (1.4.5)\n",
      "Requirement already satisfied: packaging>=20.0 in ./lib/python3.11/site-packages (from matplotlib) (23.2)\n",
      "Requirement already satisfied: pillow>=8 in ./lib/python3.11/site-packages (from matplotlib) (10.1.0)\n",
      "Requirement already satisfied: pyparsing>=2.3.1 in ./lib/python3.11/site-packages (from matplotlib) (3.1.1)\n",
      "Requirement already satisfied: six>=1.5 in ./lib/python3.11/site-packages (from python-dateutil>=2.8.2->pandas) (1.16.0)\n",
      "Using cached seaborn-0.13.0-py3-none-any.whl (294 kB)\n",
      "Installing collected packages: seaborn\n",
      "Successfully installed seaborn-0.13.0\n",
      "\n",
      "\u001b[1m[\u001b[0m\u001b[34;49mnotice\u001b[0m\u001b[1;39;49m]\u001b[0m\u001b[39;49m A new release of pip is available: \u001b[0m\u001b[31;49m23.2.1\u001b[0m\u001b[39;49m -> \u001b[0m\u001b[32;49m23.3.1\u001b[0m\n",
      "\u001b[1m[\u001b[0m\u001b[34;49mnotice\u001b[0m\u001b[1;39;49m]\u001b[0m\u001b[39;49m To update, run: \u001b[0m\u001b[32;49mpip install --upgrade pip\u001b[0m\n"
     ]
    }
   ],
   "source": [
    "!pip install pandas numpy matplotlib seaborn"
   ]
  },
  {
   "cell_type": "markdown",
   "id": "f54c4ca9-3673-4837-b656-ca568e9b4ef2",
   "metadata": {},
   "source": [
    "# Load the Data into The Code"
   ]
  },
  {
   "cell_type": "code",
   "execution_count": 46,
   "id": "0ea9ba7c-f1e7-4d3f-9ef2-b9aa2c855625",
   "metadata": {},
   "outputs": [],
   "source": [
    "import pandas as pd\n",
    "import numpy as np\n",
    "import matplotlib.pyplot as plt\n",
    "import seaborn as sns"
   ]
  },
  {
   "cell_type": "code",
   "execution_count": 18,
   "id": "3bca6ae4-42ea-476f-b5fe-79a7ebc57cd5",
   "metadata": {},
   "outputs": [
    {
     "data": {
      "text/html": [
       "<div>\n",
       "<style scoped>\n",
       "    .dataframe tbody tr th:only-of-type {\n",
       "        vertical-align: middle;\n",
       "    }\n",
       "\n",
       "    .dataframe tbody tr th {\n",
       "        vertical-align: top;\n",
       "    }\n",
       "\n",
       "    .dataframe thead th {\n",
       "        text-align: right;\n",
       "    }\n",
       "</style>\n",
       "<table border=\"1\" class=\"dataframe\">\n",
       "  <thead>\n",
       "    <tr style=\"text-align: right;\">\n",
       "      <th></th>\n",
       "      <th>Country Name</th>\n",
       "      <th>Country Code</th>\n",
       "      <th>Time</th>\n",
       "      <th>Time Code</th>\n",
       "      <th>Access to Clean Fuels and Technologies for cooking (% of total population) [2.1_ACCESS.CFT.TOT]</th>\n",
       "      <th>Access to electricity (% of rural population with access) [1.2_ACCESS.ELECTRICITY.RURAL]</th>\n",
       "      <th>Access to electricity (% of total population) [1.1_ACCESS.ELECTRICITY.TOT]</th>\n",
       "      <th>Access to electricity (% of urban population with access) [1.3_ACCESS.ELECTRICITY.URBAN]</th>\n",
       "      <th>Energy intensity level of primary energy (MJ/2011 USD PPP) [6.1_PRIMARY.ENERGY.INTENSITY]</th>\n",
       "      <th>Renewable electricity output (GWh) [4.1.2_REN.ELECTRICITY.OUTPUT]</th>\n",
       "      <th>Renewable electricity share of total electricity output (%) [4.1_SHARE.RE.IN.ELECTRICITY]</th>\n",
       "      <th>Renewable energy consumption (TJ) [3.1_RE.CONSUMPTION]</th>\n",
       "      <th>Renewable energy share of TFEC (%) [2.1_SHARE.TOTAL.RE.IN.TFEC]</th>\n",
       "      <th>Total electricity output (GWh) [4.1.1_TOTAL.ELECTRICITY.OUTPUT]</th>\n",
       "      <th>Total final energy consumption (TFEC) (TJ) [1.1_TOTAL.FINAL.ENERGY.CONSUM]</th>\n",
       "    </tr>\n",
       "  </thead>\n",
       "  <tbody>\n",
       "    <tr>\n",
       "      <th>0</th>\n",
       "      <td>Europe</td>\n",
       "      <td>GEU</td>\n",
       "      <td>2007.0</td>\n",
       "      <td>YR2007</td>\n",
       "      <td>..</td>\n",
       "      <td>..</td>\n",
       "      <td>..</td>\n",
       "      <td>..</td>\n",
       "      <td>..</td>\n",
       "      <td>..</td>\n",
       "      <td>..</td>\n",
       "      <td>..</td>\n",
       "      <td>..</td>\n",
       "      <td>..</td>\n",
       "      <td>..</td>\n",
       "    </tr>\n",
       "    <tr>\n",
       "      <th>1</th>\n",
       "      <td>Europe</td>\n",
       "      <td>GEU</td>\n",
       "      <td>2008.0</td>\n",
       "      <td>YR2008</td>\n",
       "      <td>..</td>\n",
       "      <td>..</td>\n",
       "      <td>..</td>\n",
       "      <td>..</td>\n",
       "      <td>..</td>\n",
       "      <td>..</td>\n",
       "      <td>..</td>\n",
       "      <td>..</td>\n",
       "      <td>..</td>\n",
       "      <td>..</td>\n",
       "      <td>..</td>\n",
       "    </tr>\n",
       "    <tr>\n",
       "      <th>2</th>\n",
       "      <td>Europe</td>\n",
       "      <td>GEU</td>\n",
       "      <td>2009.0</td>\n",
       "      <td>YR2009</td>\n",
       "      <td>..</td>\n",
       "      <td>..</td>\n",
       "      <td>..</td>\n",
       "      <td>..</td>\n",
       "      <td>..</td>\n",
       "      <td>..</td>\n",
       "      <td>..</td>\n",
       "      <td>..</td>\n",
       "      <td>..</td>\n",
       "      <td>..</td>\n",
       "      <td>..</td>\n",
       "    </tr>\n",
       "    <tr>\n",
       "      <th>3</th>\n",
       "      <td>Europe</td>\n",
       "      <td>GEU</td>\n",
       "      <td>2010.0</td>\n",
       "      <td>YR2010</td>\n",
       "      <td>..</td>\n",
       "      <td>..</td>\n",
       "      <td>..</td>\n",
       "      <td>..</td>\n",
       "      <td>..</td>\n",
       "      <td>..</td>\n",
       "      <td>..</td>\n",
       "      <td>..</td>\n",
       "      <td>..</td>\n",
       "      <td>..</td>\n",
       "      <td>..</td>\n",
       "    </tr>\n",
       "    <tr>\n",
       "      <th>4</th>\n",
       "      <td>Europe</td>\n",
       "      <td>GEU</td>\n",
       "      <td>2011.0</td>\n",
       "      <td>YR2011</td>\n",
       "      <td>..</td>\n",
       "      <td>..</td>\n",
       "      <td>..</td>\n",
       "      <td>..</td>\n",
       "      <td>..</td>\n",
       "      <td>..</td>\n",
       "      <td>..</td>\n",
       "      <td>..</td>\n",
       "      <td>..</td>\n",
       "      <td>..</td>\n",
       "      <td>..</td>\n",
       "    </tr>\n",
       "  </tbody>\n",
       "</table>\n",
       "</div>"
      ],
      "text/plain": [
       "  Country Name Country Code    Time Time Code  \\\n",
       "0       Europe          GEU  2007.0    YR2007   \n",
       "1       Europe          GEU  2008.0    YR2008   \n",
       "2       Europe          GEU  2009.0    YR2009   \n",
       "3       Europe          GEU  2010.0    YR2010   \n",
       "4       Europe          GEU  2011.0    YR2011   \n",
       "\n",
       "  Access to Clean Fuels and Technologies for cooking (% of total population) [2.1_ACCESS.CFT.TOT]  \\\n",
       "0                                                 ..                                                \n",
       "1                                                 ..                                                \n",
       "2                                                 ..                                                \n",
       "3                                                 ..                                                \n",
       "4                                                 ..                                                \n",
       "\n",
       "  Access to electricity (% of rural population with access) [1.2_ACCESS.ELECTRICITY.RURAL]  \\\n",
       "0                                                 ..                                         \n",
       "1                                                 ..                                         \n",
       "2                                                 ..                                         \n",
       "3                                                 ..                                         \n",
       "4                                                 ..                                         \n",
       "\n",
       "  Access to electricity (% of total population) [1.1_ACCESS.ELECTRICITY.TOT]  \\\n",
       "0                                                 ..                           \n",
       "1                                                 ..                           \n",
       "2                                                 ..                           \n",
       "3                                                 ..                           \n",
       "4                                                 ..                           \n",
       "\n",
       "  Access to electricity (% of urban population with access) [1.3_ACCESS.ELECTRICITY.URBAN]  \\\n",
       "0                                                 ..                                         \n",
       "1                                                 ..                                         \n",
       "2                                                 ..                                         \n",
       "3                                                 ..                                         \n",
       "4                                                 ..                                         \n",
       "\n",
       "  Energy intensity level of primary energy (MJ/2011 USD PPP) [6.1_PRIMARY.ENERGY.INTENSITY]  \\\n",
       "0                                                 ..                                          \n",
       "1                                                 ..                                          \n",
       "2                                                 ..                                          \n",
       "3                                                 ..                                          \n",
       "4                                                 ..                                          \n",
       "\n",
       "  Renewable electricity output (GWh) [4.1.2_REN.ELECTRICITY.OUTPUT]  \\\n",
       "0                                                 ..                  \n",
       "1                                                 ..                  \n",
       "2                                                 ..                  \n",
       "3                                                 ..                  \n",
       "4                                                 ..                  \n",
       "\n",
       "  Renewable electricity share of total electricity output (%) [4.1_SHARE.RE.IN.ELECTRICITY]  \\\n",
       "0                                                 ..                                          \n",
       "1                                                 ..                                          \n",
       "2                                                 ..                                          \n",
       "3                                                 ..                                          \n",
       "4                                                 ..                                          \n",
       "\n",
       "  Renewable energy consumption (TJ) [3.1_RE.CONSUMPTION]  \\\n",
       "0                                                 ..       \n",
       "1                                                 ..       \n",
       "2                                                 ..       \n",
       "3                                                 ..       \n",
       "4                                                 ..       \n",
       "\n",
       "  Renewable energy share of TFEC (%) [2.1_SHARE.TOTAL.RE.IN.TFEC]  \\\n",
       "0                                                 ..                \n",
       "1                                                 ..                \n",
       "2                                                 ..                \n",
       "3                                                 ..                \n",
       "4                                                 ..                \n",
       "\n",
       "  Total electricity output (GWh) [4.1.1_TOTAL.ELECTRICITY.OUTPUT]  \\\n",
       "0                                                 ..                \n",
       "1                                                 ..                \n",
       "2                                                 ..                \n",
       "3                                                 ..                \n",
       "4                                                 ..                \n",
       "\n",
       "  Total final energy consumption (TFEC) (TJ) [1.1_TOTAL.FINAL.ENERGY.CONSUM]  \n",
       "0                                                 ..                          \n",
       "1                                                 ..                          \n",
       "2                                                 ..                          \n",
       "3                                                 ..                          \n",
       "4                                                 ..                          "
      ]
     },
     "execution_count": 18,
     "metadata": {},
     "output_type": "execute_result"
    }
   ],
   "source": [
    "# Read the CSV data file into a Pandas DataFrame\n",
    "df = pd.read_csv(\"db7bbefb-a40f-42d2-bda6-26bf81492061_Data.csv\")\n",
    "\n",
    "# Display the first 5 rows of the data\n",
    "df.head()"
   ]
  },
  {
   "cell_type": "code",
   "execution_count": 19,
   "id": "72a0e4ac-0284-4194-80b5-440528283062",
   "metadata": {},
   "outputs": [],
   "source": [
    "# Set the Country Name as Index\n",
    "df.set_index('Country Name', inplace=True)"
   ]
  },
  {
   "cell_type": "code",
   "execution_count": 20,
   "id": "82ebdd71-e807-4808-b49c-acc354d965fe",
   "metadata": {},
   "outputs": [
    {
     "data": {
      "text/html": [
       "<div>\n",
       "<style scoped>\n",
       "    .dataframe tbody tr th:only-of-type {\n",
       "        vertical-align: middle;\n",
       "    }\n",
       "\n",
       "    .dataframe tbody tr th {\n",
       "        vertical-align: top;\n",
       "    }\n",
       "\n",
       "    .dataframe thead th {\n",
       "        text-align: right;\n",
       "    }\n",
       "</style>\n",
       "<table border=\"1\" class=\"dataframe\">\n",
       "  <thead>\n",
       "    <tr style=\"text-align: right;\">\n",
       "      <th></th>\n",
       "      <th>Country Code</th>\n",
       "      <th>Time</th>\n",
       "      <th>Time Code</th>\n",
       "      <th>Access to Clean Fuels and Technologies for cooking (% of total population) [2.1_ACCESS.CFT.TOT]</th>\n",
       "      <th>Access to electricity (% of rural population with access) [1.2_ACCESS.ELECTRICITY.RURAL]</th>\n",
       "      <th>Access to electricity (% of total population) [1.1_ACCESS.ELECTRICITY.TOT]</th>\n",
       "      <th>Access to electricity (% of urban population with access) [1.3_ACCESS.ELECTRICITY.URBAN]</th>\n",
       "      <th>Energy intensity level of primary energy (MJ/2011 USD PPP) [6.1_PRIMARY.ENERGY.INTENSITY]</th>\n",
       "      <th>Renewable electricity output (GWh) [4.1.2_REN.ELECTRICITY.OUTPUT]</th>\n",
       "      <th>Renewable electricity share of total electricity output (%) [4.1_SHARE.RE.IN.ELECTRICITY]</th>\n",
       "      <th>Renewable energy consumption (TJ) [3.1_RE.CONSUMPTION]</th>\n",
       "      <th>Renewable energy share of TFEC (%) [2.1_SHARE.TOTAL.RE.IN.TFEC]</th>\n",
       "      <th>Total electricity output (GWh) [4.1.1_TOTAL.ELECTRICITY.OUTPUT]</th>\n",
       "      <th>Total final energy consumption (TFEC) (TJ) [1.1_TOTAL.FINAL.ENERGY.CONSUM]</th>\n",
       "    </tr>\n",
       "    <tr>\n",
       "      <th>Country Name</th>\n",
       "      <th></th>\n",
       "      <th></th>\n",
       "      <th></th>\n",
       "      <th></th>\n",
       "      <th></th>\n",
       "      <th></th>\n",
       "      <th></th>\n",
       "      <th></th>\n",
       "      <th></th>\n",
       "      <th></th>\n",
       "      <th></th>\n",
       "      <th></th>\n",
       "      <th></th>\n",
       "      <th></th>\n",
       "    </tr>\n",
       "  </thead>\n",
       "  <tbody>\n",
       "    <tr>\n",
       "      <th>Europe</th>\n",
       "      <td>GEU</td>\n",
       "      <td>2007.0</td>\n",
       "      <td>YR2007</td>\n",
       "      <td>..</td>\n",
       "      <td>..</td>\n",
       "      <td>..</td>\n",
       "      <td>..</td>\n",
       "      <td>..</td>\n",
       "      <td>..</td>\n",
       "      <td>..</td>\n",
       "      <td>..</td>\n",
       "      <td>..</td>\n",
       "      <td>..</td>\n",
       "      <td>..</td>\n",
       "    </tr>\n",
       "    <tr>\n",
       "      <th>Europe</th>\n",
       "      <td>GEU</td>\n",
       "      <td>2008.0</td>\n",
       "      <td>YR2008</td>\n",
       "      <td>..</td>\n",
       "      <td>..</td>\n",
       "      <td>..</td>\n",
       "      <td>..</td>\n",
       "      <td>..</td>\n",
       "      <td>..</td>\n",
       "      <td>..</td>\n",
       "      <td>..</td>\n",
       "      <td>..</td>\n",
       "      <td>..</td>\n",
       "      <td>..</td>\n",
       "    </tr>\n",
       "    <tr>\n",
       "      <th>Europe</th>\n",
       "      <td>GEU</td>\n",
       "      <td>2009.0</td>\n",
       "      <td>YR2009</td>\n",
       "      <td>..</td>\n",
       "      <td>..</td>\n",
       "      <td>..</td>\n",
       "      <td>..</td>\n",
       "      <td>..</td>\n",
       "      <td>..</td>\n",
       "      <td>..</td>\n",
       "      <td>..</td>\n",
       "      <td>..</td>\n",
       "      <td>..</td>\n",
       "      <td>..</td>\n",
       "    </tr>\n",
       "    <tr>\n",
       "      <th>Europe</th>\n",
       "      <td>GEU</td>\n",
       "      <td>2010.0</td>\n",
       "      <td>YR2010</td>\n",
       "      <td>..</td>\n",
       "      <td>..</td>\n",
       "      <td>..</td>\n",
       "      <td>..</td>\n",
       "      <td>..</td>\n",
       "      <td>..</td>\n",
       "      <td>..</td>\n",
       "      <td>..</td>\n",
       "      <td>..</td>\n",
       "      <td>..</td>\n",
       "      <td>..</td>\n",
       "    </tr>\n",
       "    <tr>\n",
       "      <th>Europe</th>\n",
       "      <td>GEU</td>\n",
       "      <td>2011.0</td>\n",
       "      <td>YR2011</td>\n",
       "      <td>..</td>\n",
       "      <td>..</td>\n",
       "      <td>..</td>\n",
       "      <td>..</td>\n",
       "      <td>..</td>\n",
       "      <td>..</td>\n",
       "      <td>..</td>\n",
       "      <td>..</td>\n",
       "      <td>..</td>\n",
       "      <td>..</td>\n",
       "      <td>..</td>\n",
       "    </tr>\n",
       "  </tbody>\n",
       "</table>\n",
       "</div>"
      ],
      "text/plain": [
       "             Country Code    Time Time Code  \\\n",
       "Country Name                                  \n",
       "Europe                GEU  2007.0    YR2007   \n",
       "Europe                GEU  2008.0    YR2008   \n",
       "Europe                GEU  2009.0    YR2009   \n",
       "Europe                GEU  2010.0    YR2010   \n",
       "Europe                GEU  2011.0    YR2011   \n",
       "\n",
       "             Access to Clean Fuels and Technologies for cooking (% of total population) [2.1_ACCESS.CFT.TOT]  \\\n",
       "Country Name                                                                                                   \n",
       "Europe                                                       ..                                                \n",
       "Europe                                                       ..                                                \n",
       "Europe                                                       ..                                                \n",
       "Europe                                                       ..                                                \n",
       "Europe                                                       ..                                                \n",
       "\n",
       "             Access to electricity (% of rural population with access) [1.2_ACCESS.ELECTRICITY.RURAL]  \\\n",
       "Country Name                                                                                            \n",
       "Europe                                                       ..                                         \n",
       "Europe                                                       ..                                         \n",
       "Europe                                                       ..                                         \n",
       "Europe                                                       ..                                         \n",
       "Europe                                                       ..                                         \n",
       "\n",
       "             Access to electricity (% of total population) [1.1_ACCESS.ELECTRICITY.TOT]  \\\n",
       "Country Name                                                                              \n",
       "Europe                                                       ..                           \n",
       "Europe                                                       ..                           \n",
       "Europe                                                       ..                           \n",
       "Europe                                                       ..                           \n",
       "Europe                                                       ..                           \n",
       "\n",
       "             Access to electricity (% of urban population with access) [1.3_ACCESS.ELECTRICITY.URBAN]  \\\n",
       "Country Name                                                                                            \n",
       "Europe                                                       ..                                         \n",
       "Europe                                                       ..                                         \n",
       "Europe                                                       ..                                         \n",
       "Europe                                                       ..                                         \n",
       "Europe                                                       ..                                         \n",
       "\n",
       "             Energy intensity level of primary energy (MJ/2011 USD PPP) [6.1_PRIMARY.ENERGY.INTENSITY]  \\\n",
       "Country Name                                                                                             \n",
       "Europe                                                       ..                                          \n",
       "Europe                                                       ..                                          \n",
       "Europe                                                       ..                                          \n",
       "Europe                                                       ..                                          \n",
       "Europe                                                       ..                                          \n",
       "\n",
       "             Renewable electricity output (GWh) [4.1.2_REN.ELECTRICITY.OUTPUT]  \\\n",
       "Country Name                                                                     \n",
       "Europe                                                       ..                  \n",
       "Europe                                                       ..                  \n",
       "Europe                                                       ..                  \n",
       "Europe                                                       ..                  \n",
       "Europe                                                       ..                  \n",
       "\n",
       "             Renewable electricity share of total electricity output (%) [4.1_SHARE.RE.IN.ELECTRICITY]  \\\n",
       "Country Name                                                                                             \n",
       "Europe                                                       ..                                          \n",
       "Europe                                                       ..                                          \n",
       "Europe                                                       ..                                          \n",
       "Europe                                                       ..                                          \n",
       "Europe                                                       ..                                          \n",
       "\n",
       "             Renewable energy consumption (TJ) [3.1_RE.CONSUMPTION]  \\\n",
       "Country Name                                                          \n",
       "Europe                                                       ..       \n",
       "Europe                                                       ..       \n",
       "Europe                                                       ..       \n",
       "Europe                                                       ..       \n",
       "Europe                                                       ..       \n",
       "\n",
       "             Renewable energy share of TFEC (%) [2.1_SHARE.TOTAL.RE.IN.TFEC]  \\\n",
       "Country Name                                                                   \n",
       "Europe                                                       ..                \n",
       "Europe                                                       ..                \n",
       "Europe                                                       ..                \n",
       "Europe                                                       ..                \n",
       "Europe                                                       ..                \n",
       "\n",
       "             Total electricity output (GWh) [4.1.1_TOTAL.ELECTRICITY.OUTPUT]  \\\n",
       "Country Name                                                                   \n",
       "Europe                                                       ..                \n",
       "Europe                                                       ..                \n",
       "Europe                                                       ..                \n",
       "Europe                                                       ..                \n",
       "Europe                                                       ..                \n",
       "\n",
       "             Total final energy consumption (TFEC) (TJ) [1.1_TOTAL.FINAL.ENERGY.CONSUM]  \n",
       "Country Name                                                                             \n",
       "Europe                                                       ..                          \n",
       "Europe                                                       ..                          \n",
       "Europe                                                       ..                          \n",
       "Europe                                                       ..                          \n",
       "Europe                                                       ..                          "
      ]
     },
     "execution_count": 20,
     "metadata": {},
     "output_type": "execute_result"
    }
   ],
   "source": [
    "df.head()"
   ]
  },
  {
   "cell_type": "markdown",
   "id": "ff0bba8b-c3e7-4384-9ac8-bd20832a2c68",
   "metadata": {},
   "source": [
    "# Data Cleaning"
   ]
  },
  {
   "cell_type": "raw",
   "id": "de62b6f8-ade1-43c4-90f7-153e3384582b",
   "metadata": {},
   "source": [
    "Let's start by dealing with the missing values."
   ]
  },
  {
   "cell_type": "code",
   "execution_count": 21,
   "id": "a644be70-f23f-4187-b628-4c7886967c0e",
   "metadata": {},
   "outputs": [
    {
     "name": "stdout",
     "output_type": "stream",
     "text": [
      "Country Code                                                                                       5\n",
      "Time                                                                                               5\n",
      "Time Code                                                                                          5\n",
      "Access to Clean Fuels and Technologies for cooking (% of total population) [2.1_ACCESS.CFT.TOT]    5\n",
      "Access to electricity (% of rural population with access) [1.2_ACCESS.ELECTRICITY.RURAL]           5\n",
      "Access to electricity (% of total population) [1.1_ACCESS.ELECTRICITY.TOT]                         5\n",
      "Access to electricity (% of urban population with access) [1.3_ACCESS.ELECTRICITY.URBAN]           5\n",
      "Energy intensity level of primary energy (MJ/2011 USD PPP) [6.1_PRIMARY.ENERGY.INTENSITY]          5\n",
      "Renewable electricity output (GWh) [4.1.2_REN.ELECTRICITY.OUTPUT]                                  5\n",
      "Renewable electricity share of total electricity output (%) [4.1_SHARE.RE.IN.ELECTRICITY]          5\n",
      "Renewable energy consumption (TJ) [3.1_RE.CONSUMPTION]                                             5\n",
      "Renewable energy share of TFEC (%) [2.1_SHARE.TOTAL.RE.IN.TFEC]                                    5\n",
      "Total electricity output (GWh) [4.1.1_TOTAL.ELECTRICITY.OUTPUT]                                    5\n",
      "Total final energy consumption (TFEC) (TJ) [1.1_TOTAL.FINAL.ENERGY.CONSUM]                         5\n",
      "dtype: int64\n"
     ]
    }
   ],
   "source": [
    "# Identify missing values\n",
    "print(df.isnull().sum())"
   ]
  },
  {
   "cell_type": "code",
   "execution_count": 22,
   "id": "a7777a08-b28c-410a-979f-d07ad670bf42",
   "metadata": {},
   "outputs": [
    {
     "data": {
      "text/plain": [
       "(2595, 14)"
      ]
     },
     "execution_count": 22,
     "metadata": {},
     "output_type": "execute_result"
    }
   ],
   "source": [
    "df.shape"
   ]
  },
  {
   "cell_type": "code",
   "execution_count": 23,
   "id": "2beee5cc-df9d-4dfe-8c1c-23372104f8a3",
   "metadata": {},
   "outputs": [],
   "source": [
    "# Drop rows with missing values\n",
    "df.dropna(inplace=True)"
   ]
  },
  {
   "cell_type": "code",
   "execution_count": 24,
   "id": "af1df9fe-7b9c-43b0-bbdf-5beb088bc354",
   "metadata": {},
   "outputs": [
    {
     "data": {
      "text/plain": [
       "(2590, 14)"
      ]
     },
     "execution_count": 24,
     "metadata": {},
     "output_type": "execute_result"
    }
   ],
   "source": [
    "df.shape"
   ]
  },
  {
   "cell_type": "code",
   "execution_count": 25,
   "id": "ceea68f8-a68d-422b-ae21-b3c3d7e0f092",
   "metadata": {},
   "outputs": [],
   "source": [
    "# Remove duplicate rows\n",
    "df.drop_duplicates(inplace=True)"
   ]
  },
  {
   "cell_type": "code",
   "execution_count": 26,
   "id": "4f425400-598e-4c87-a265-c6af44d4e13c",
   "metadata": {},
   "outputs": [
    {
     "data": {
      "text/plain": [
       "(2590, 14)"
      ]
     },
     "execution_count": 26,
     "metadata": {},
     "output_type": "execute_result"
    }
   ],
   "source": [
    "df.shape"
   ]
  },
  {
   "cell_type": "code",
   "execution_count": 27,
   "id": "6af8082a-7ea1-468f-a9a5-2df594803db5",
   "metadata": {},
   "outputs": [
    {
     "data": {
      "text/plain": [
       "Country Code                                                                                        object\n",
       "Time                                                                                               float64\n",
       "Time Code                                                                                           object\n",
       "Access to Clean Fuels and Technologies for cooking (% of total population) [2.1_ACCESS.CFT.TOT]     object\n",
       "Access to electricity (% of rural population with access) [1.2_ACCESS.ELECTRICITY.RURAL]            object\n",
       "Access to electricity (% of total population) [1.1_ACCESS.ELECTRICITY.TOT]                          object\n",
       "Access to electricity (% of urban population with access) [1.3_ACCESS.ELECTRICITY.URBAN]            object\n",
       "Energy intensity level of primary energy (MJ/2011 USD PPP) [6.1_PRIMARY.ENERGY.INTENSITY]           object\n",
       "Renewable electricity output (GWh) [4.1.2_REN.ELECTRICITY.OUTPUT]                                   object\n",
       "Renewable electricity share of total electricity output (%) [4.1_SHARE.RE.IN.ELECTRICITY]           object\n",
       "Renewable energy consumption (TJ) [3.1_RE.CONSUMPTION]                                              object\n",
       "Renewable energy share of TFEC (%) [2.1_SHARE.TOTAL.RE.IN.TFEC]                                     object\n",
       "Total electricity output (GWh) [4.1.1_TOTAL.ELECTRICITY.OUTPUT]                                     object\n",
       "Total final energy consumption (TFEC) (TJ) [1.1_TOTAL.FINAL.ENERGY.CONSUM]                          object\n",
       "dtype: object"
      ]
     },
     "execution_count": 27,
     "metadata": {},
     "output_type": "execute_result"
    }
   ],
   "source": [
    "df.dtypes"
   ]
  },
  {
   "cell_type": "code",
   "execution_count": 28,
   "id": "0dd6a747-c52b-4560-ae39-2dca68a9cdfa",
   "metadata": {},
   "outputs": [],
   "source": [
    "# Convert the objects into float\n",
    "columns_to_convert = [\n",
    "    'Access to Clean Fuels and Technologies for cooking (% of total population) [2.1_ACCESS.CFT.TOT]',\n",
    "    'Access to electricity (% of rural population with access) [1.2_ACCESS.ELECTRICITY.RURAL]',\n",
    "    'Access to electricity (% of total population) [1.1_ACCESS.ELECTRICITY.TOT]',\n",
    "    'Access to electricity (% of urban population with access) [1.3_ACCESS.ELECTRICITY.URBAN]',\n",
    "    'Energy intensity level of primary energy (MJ/2011 USD PPP) [6.1_PRIMARY.ENERGY.INTENSITY]',\n",
    "    'Renewable electricity output (GWh) [4.1.2_REN.ELECTRICITY.OUTPUT]',\n",
    "    'Renewable electricity share of total electricity output (%) [4.1_SHARE.RE.IN.ELECTRICITY]',\n",
    "    'Renewable energy consumption (TJ) [3.1_RE.CONSUMPTION]',\n",
    "    'Renewable energy share of TFEC (%) [2.1_SHARE.TOTAL.RE.IN.TFEC]',\n",
    "    'Total electricity output (GWh) [4.1.1_TOTAL.ELECTRICITY.OUTPUT]',\n",
    "    'Total final energy consumption (TFEC) (TJ) [1.1_TOTAL.FINAL.ENERGY.CONSUM]'\n",
    "]\n",
    "\n",
    "# Convert selected columns to float\n",
    "df[columns_to_convert] = df[columns_to_convert].apply(pd.to_numeric, errors='coerce')\n"
   ]
  },
  {
   "cell_type": "code",
   "execution_count": 29,
   "id": "8d4cf0ed-6239-4c45-b664-47ef792f085f",
   "metadata": {},
   "outputs": [
    {
     "data": {
      "text/plain": [
       "Country Code                                                                                        object\n",
       "Time                                                                                               float64\n",
       "Time Code                                                                                           object\n",
       "Access to Clean Fuels and Technologies for cooking (% of total population) [2.1_ACCESS.CFT.TOT]    float64\n",
       "Access to electricity (% of rural population with access) [1.2_ACCESS.ELECTRICITY.RURAL]           float64\n",
       "Access to electricity (% of total population) [1.1_ACCESS.ELECTRICITY.TOT]                         float64\n",
       "Access to electricity (% of urban population with access) [1.3_ACCESS.ELECTRICITY.URBAN]           float64\n",
       "Energy intensity level of primary energy (MJ/2011 USD PPP) [6.1_PRIMARY.ENERGY.INTENSITY]          float64\n",
       "Renewable electricity output (GWh) [4.1.2_REN.ELECTRICITY.OUTPUT]                                  float64\n",
       "Renewable electricity share of total electricity output (%) [4.1_SHARE.RE.IN.ELECTRICITY]          float64\n",
       "Renewable energy consumption (TJ) [3.1_RE.CONSUMPTION]                                             float64\n",
       "Renewable energy share of TFEC (%) [2.1_SHARE.TOTAL.RE.IN.TFEC]                                    float64\n",
       "Total electricity output (GWh) [4.1.1_TOTAL.ELECTRICITY.OUTPUT]                                    float64\n",
       "Total final energy consumption (TFEC) (TJ) [1.1_TOTAL.FINAL.ENERGY.CONSUM]                         float64\n",
       "dtype: object"
      ]
     },
     "execution_count": 29,
     "metadata": {},
     "output_type": "execute_result"
    }
   ],
   "source": [
    "df.dtypes"
   ]
  },
  {
   "cell_type": "code",
   "execution_count": 30,
   "id": "2ad91c87-dfe2-4471-a7e3-c813c78a9c5a",
   "metadata": {},
   "outputs": [],
   "source": [
    "# Now let us rename the features of the dataset\n",
    "# Dictionary mapping old column names to new column names\n",
    "column_name_mapping = {\n",
    "    'Access to Clean Fuels and Technologies for cooking (% of total population) [2.1_ACCESS.CFT.TOT]': 'Access to Clean Fuels and Technologies for cooking (% of total population)',\n",
    "    'Access to electricity (% of rural population with access) [1.2_ACCESS.ELECTRICITY.RURAL]': 'Access to electricity (% of rural population with access)',\n",
    "    'Access to electricity (% of total population) [1.1_ACCESS.ELECTRICITY.TOT]': 'Access to electricity (% of total population)',\n",
    "    'Access to electricity (% of urban population with access) [1.3_ACCESS.ELECTRICITY.URBAN]': 'Access to electricity (% of urban population with access)',\n",
    "    'Energy intensity level of primary energy (MJ/2011 USD PPP) [6.1_PRIMARY.ENERGY.INTENSITY]': 'Energy intensity level of primary energy (MJ/2011 USD PPP)',\n",
    "    'Renewable electricity output (GWh) [4.1.2_REN.ELECTRICITY.OUTPUT]': 'Renewable electricity output (GWh)',\n",
    "    'Renewable electricity share of total electricity output (%) [4.1_SHARE.RE.IN.ELECTRICITY]': 'Renewable electricity share of total electricity output (%)',\n",
    "    'Renewable energy consumption (TJ) [3.1_RE.CONSUMPTION]': 'Renewable energy consumption (TJ)',\n",
    "    'Renewable energy share of TFEC (%) [2.1_SHARE.TOTAL.RE.IN.TFEC]': 'Renewable energy share of TFEC (%)',\n",
    "    'Total electricity output (GWh) [4.1.1_TOTAL.ELECTRICITY.OUTPUT]': 'Total electricity output (GWh)',\n",
    "    'Total final energy consumption (TFEC) (TJ) [1.1_TOTAL.FINAL.ENERGY.CONSUM]': 'Total final energy consumption (TFEC) (TJ)'\n",
    "}\n",
    "\n",
    "# Rename columns using the dictionary\n",
    "df.rename(columns=column_name_mapping, inplace=True)"
   ]
  },
  {
   "cell_type": "code",
   "execution_count": 37,
   "id": "16c52d74-8385-4d80-a1e9-cf4d5067b95e",
   "metadata": {},
   "outputs": [],
   "source": [
    "df_cleaned = df.dropna()"
   ]
  },
  {
   "cell_type": "code",
   "execution_count": 41,
   "id": "0ba75e69-0c2b-4fb2-bf21-6fefe5256a75",
   "metadata": {},
   "outputs": [
    {
     "data": {
      "text/plain": [
       "(1607, 14)"
      ]
     },
     "execution_count": 41,
     "metadata": {},
     "output_type": "execute_result"
    }
   ],
   "source": [
    "df_cleaned.shape"
   ]
  },
  {
   "cell_type": "code",
   "execution_count": 42,
   "id": "4c688888-86fc-4159-b387-f37563c4bfa6",
   "metadata": {},
   "outputs": [
    {
     "data": {
      "text/plain": [
       "Index(['Country Code', 'Time', 'Time Code',\n",
       "       'Access to Clean Fuels and Technologies for cooking (% of total population)',\n",
       "       'Access to electricity (% of rural population with access)',\n",
       "       'Access to electricity (% of total population)',\n",
       "       'Access to electricity (% of urban population with access)',\n",
       "       'Energy intensity level of primary energy (MJ/2011 USD PPP)',\n",
       "       'Renewable electricity output (GWh)',\n",
       "       'Renewable electricity share of total electricity output (%)',\n",
       "       'Renewable energy consumption (TJ)',\n",
       "       'Renewable energy share of TFEC (%)', 'Total electricity output (GWh)',\n",
       "       'Total final energy consumption (TFEC) (TJ)'],\n",
       "      dtype='object')"
      ]
     },
     "execution_count": 42,
     "metadata": {},
     "output_type": "execute_result"
    }
   ],
   "source": [
    "df_cleaned.columns"
   ]
  },
  {
   "cell_type": "markdown",
   "id": "d876e289-679c-4e93-8df5-bd9b0614818e",
   "metadata": {},
   "source": [
    "# Analysis"
   ]
  },
  {
   "cell_type": "raw",
   "id": "dfad193c-f242-4b85-a700-c5483dc24715",
   "metadata": {},
   "source": [
    "Now let us do some analysis from the data that we have."
   ]
  },
  {
   "cell_type": "code",
   "execution_count": 49,
   "id": "d5b4dcfb-dcbc-47f7-85c3-5244434cd1c3",
   "metadata": {},
   "outputs": [
    {
     "ename": "ValueError",
     "evalue": "cannot reindex on an axis with duplicate labels",
     "output_type": "error",
     "traceback": [
      "\u001b[0;31m---------------------------------------------------------------------------\u001b[0m",
      "\u001b[0;31mValueError\u001b[0m                                Traceback (most recent call last)",
      "Cell \u001b[0;32mIn[49], line 6\u001b[0m\n\u001b[1;32m      4\u001b[0m \u001b[38;5;66;03m# Descriptive Analysis: Time Trends\u001b[39;00m\n\u001b[1;32m      5\u001b[0m plt\u001b[38;5;241m.\u001b[39mfigure(figsize\u001b[38;5;241m=\u001b[39m(\u001b[38;5;241m12\u001b[39m, \u001b[38;5;241m6\u001b[39m))\n\u001b[0;32m----> 6\u001b[0m \u001b[43msns\u001b[49m\u001b[38;5;241;43m.\u001b[39;49m\u001b[43mlineplot\u001b[49m\u001b[43m(\u001b[49m\u001b[43mx\u001b[49m\u001b[38;5;241;43m=\u001b[39;49m\u001b[38;5;124;43m'\u001b[39;49m\u001b[38;5;124;43mTime\u001b[39;49m\u001b[38;5;124;43m'\u001b[39;49m\u001b[43m,\u001b[49m\u001b[43m \u001b[49m\u001b[43my\u001b[49m\u001b[38;5;241;43m=\u001b[39;49m\u001b[38;5;124;43m'\u001b[39;49m\u001b[38;5;124;43mRenewable energy consumption (TJ)\u001b[39;49m\u001b[38;5;124;43m'\u001b[39;49m\u001b[43m,\u001b[49m\u001b[43m \u001b[49m\u001b[43mdata\u001b[49m\u001b[38;5;241;43m=\u001b[39;49m\u001b[43mdf\u001b[49m\u001b[43m)\u001b[49m\n\u001b[1;32m      7\u001b[0m plt\u001b[38;5;241m.\u001b[39mtitle(\u001b[38;5;124m'\u001b[39m\u001b[38;5;124mRenewable Energy Consumption Over Time\u001b[39m\u001b[38;5;124m'\u001b[39m)\n\u001b[1;32m      8\u001b[0m plt\u001b[38;5;241m.\u001b[39mxlabel(\u001b[38;5;124m'\u001b[39m\u001b[38;5;124mYear\u001b[39m\u001b[38;5;124m'\u001b[39m)\n",
      "File \u001b[0;32m~/Documents/Fall 2023/Data Analytic/Final Project/dataAnalysis/lib/python3.11/site-packages/seaborn/relational.py:507\u001b[0m, in \u001b[0;36mlineplot\u001b[0;34m(data, x, y, hue, size, style, units, palette, hue_order, hue_norm, sizes, size_order, size_norm, dashes, markers, style_order, estimator, errorbar, n_boot, seed, orient, sort, err_style, err_kws, legend, ci, ax, **kwargs)\u001b[0m\n\u001b[1;32m    504\u001b[0m color \u001b[38;5;241m=\u001b[39m kwargs\u001b[38;5;241m.\u001b[39mpop(\u001b[38;5;124m\"\u001b[39m\u001b[38;5;124mcolor\u001b[39m\u001b[38;5;124m\"\u001b[39m, kwargs\u001b[38;5;241m.\u001b[39mpop(\u001b[38;5;124m\"\u001b[39m\u001b[38;5;124mc\u001b[39m\u001b[38;5;124m\"\u001b[39m, \u001b[38;5;28;01mNone\u001b[39;00m))\n\u001b[1;32m    505\u001b[0m kwargs[\u001b[38;5;124m\"\u001b[39m\u001b[38;5;124mcolor\u001b[39m\u001b[38;5;124m\"\u001b[39m] \u001b[38;5;241m=\u001b[39m _default_color(ax\u001b[38;5;241m.\u001b[39mplot, hue, color, kwargs)\n\u001b[0;32m--> 507\u001b[0m \u001b[43mp\u001b[49m\u001b[38;5;241;43m.\u001b[39;49m\u001b[43mplot\u001b[49m\u001b[43m(\u001b[49m\u001b[43max\u001b[49m\u001b[43m,\u001b[49m\u001b[43m \u001b[49m\u001b[43mkwargs\u001b[49m\u001b[43m)\u001b[49m\n\u001b[1;32m    508\u001b[0m \u001b[38;5;28;01mreturn\u001b[39;00m ax\n",
      "File \u001b[0;32m~/Documents/Fall 2023/Data Analytic/Final Project/dataAnalysis/lib/python3.11/site-packages/seaborn/relational.py:274\u001b[0m, in \u001b[0;36m_LinePlotter.plot\u001b[0;34m(self, ax, kws)\u001b[0m\n\u001b[1;32m    266\u001b[0m \u001b[38;5;66;03m# TODO How to handle NA? We don't want NA to propagate through to the\u001b[39;00m\n\u001b[1;32m    267\u001b[0m \u001b[38;5;66;03m# estimate/CI when some values are present, but we would also like\u001b[39;00m\n\u001b[1;32m    268\u001b[0m \u001b[38;5;66;03m# matplotlib to show \"gaps\" in the line when all values are missing.\u001b[39;00m\n\u001b[0;32m   (...)\u001b[0m\n\u001b[1;32m    271\u001b[0m \n\u001b[1;32m    272\u001b[0m \u001b[38;5;66;03m# Loop over the semantic subsets and add to the plot\u001b[39;00m\n\u001b[1;32m    273\u001b[0m grouping_vars \u001b[38;5;241m=\u001b[39m \u001b[38;5;124m\"\u001b[39m\u001b[38;5;124mhue\u001b[39m\u001b[38;5;124m\"\u001b[39m, \u001b[38;5;124m\"\u001b[39m\u001b[38;5;124msize\u001b[39m\u001b[38;5;124m\"\u001b[39m, \u001b[38;5;124m\"\u001b[39m\u001b[38;5;124mstyle\u001b[39m\u001b[38;5;124m\"\u001b[39m\n\u001b[0;32m--> 274\u001b[0m \u001b[43m\u001b[49m\u001b[38;5;28;43;01mfor\u001b[39;49;00m\u001b[43m \u001b[49m\u001b[43msub_vars\u001b[49m\u001b[43m,\u001b[49m\u001b[43m \u001b[49m\u001b[43msub_data\u001b[49m\u001b[43m \u001b[49m\u001b[38;5;129;43;01min\u001b[39;49;00m\u001b[43m \u001b[49m\u001b[38;5;28;43mself\u001b[39;49m\u001b[38;5;241;43m.\u001b[39;49m\u001b[43miter_data\u001b[49m\u001b[43m(\u001b[49m\u001b[43mgrouping_vars\u001b[49m\u001b[43m,\u001b[49m\u001b[43m \u001b[49m\u001b[43mfrom_comp_data\u001b[49m\u001b[38;5;241;43m=\u001b[39;49m\u001b[38;5;28;43;01mTrue\u001b[39;49;00m\u001b[43m)\u001b[49m\u001b[43m:\u001b[49m\n\u001b[1;32m    276\u001b[0m \u001b[43m    \u001b[49m\u001b[38;5;28;43;01mif\u001b[39;49;00m\u001b[43m \u001b[49m\u001b[38;5;28;43mself\u001b[39;49m\u001b[38;5;241;43m.\u001b[39;49m\u001b[43msort\u001b[49m\u001b[43m:\u001b[49m\n\u001b[1;32m    277\u001b[0m \u001b[43m        \u001b[49m\u001b[43msort_vars\u001b[49m\u001b[43m \u001b[49m\u001b[38;5;241;43m=\u001b[39;49m\u001b[43m \u001b[49m\u001b[43m[\u001b[49m\u001b[38;5;124;43m\"\u001b[39;49m\u001b[38;5;124;43munits\u001b[39;49m\u001b[38;5;124;43m\"\u001b[39;49m\u001b[43m,\u001b[49m\u001b[43m \u001b[49m\u001b[43morient\u001b[49m\u001b[43m,\u001b[49m\u001b[43m \u001b[49m\u001b[43mother\u001b[49m\u001b[43m]\u001b[49m\n",
      "File \u001b[0;32m~/Documents/Fall 2023/Data Analytic/Final Project/dataAnalysis/lib/python3.11/site-packages/seaborn/_base.py:902\u001b[0m, in \u001b[0;36mVectorPlotter.iter_data\u001b[0;34m(self, grouping_vars, reverse, from_comp_data, by_facet, allow_empty, dropna)\u001b[0m\n\u001b[1;32m    899\u001b[0m grouping_vars \u001b[38;5;241m=\u001b[39m [var \u001b[38;5;28;01mfor\u001b[39;00m var \u001b[38;5;129;01min\u001b[39;00m grouping_vars \u001b[38;5;28;01mif\u001b[39;00m var \u001b[38;5;129;01min\u001b[39;00m \u001b[38;5;28mself\u001b[39m\u001b[38;5;241m.\u001b[39mvariables]\n\u001b[1;32m    901\u001b[0m \u001b[38;5;28;01mif\u001b[39;00m from_comp_data:\n\u001b[0;32m--> 902\u001b[0m     data \u001b[38;5;241m=\u001b[39m \u001b[38;5;28;43mself\u001b[39;49m\u001b[38;5;241;43m.\u001b[39;49m\u001b[43mcomp_data\u001b[49m\n\u001b[1;32m    903\u001b[0m \u001b[38;5;28;01melse\u001b[39;00m:\n\u001b[1;32m    904\u001b[0m     data \u001b[38;5;241m=\u001b[39m \u001b[38;5;28mself\u001b[39m\u001b[38;5;241m.\u001b[39mplot_data\n",
      "File \u001b[0;32m~/Documents/Fall 2023/Data Analytic/Final Project/dataAnalysis/lib/python3.11/site-packages/seaborn/_base.py:1006\u001b[0m, in \u001b[0;36mVectorPlotter.comp_data\u001b[0;34m(self)\u001b[0m\n\u001b[1;32m   1004\u001b[0m         \u001b[38;5;28;01melse\u001b[39;00m:\n\u001b[1;32m   1005\u001b[0m             comp_col \u001b[38;5;241m=\u001b[39m pd\u001b[38;5;241m.\u001b[39mSeries(dtype\u001b[38;5;241m=\u001b[39m\u001b[38;5;28mfloat\u001b[39m, name\u001b[38;5;241m=\u001b[39mvar)\n\u001b[0;32m-> 1006\u001b[0m         \u001b[43mcomp_data\u001b[49m\u001b[38;5;241;43m.\u001b[39;49m\u001b[43minsert\u001b[49m\u001b[43m(\u001b[49m\u001b[38;5;241;43m0\u001b[39;49m\u001b[43m,\u001b[49m\u001b[43m \u001b[49m\u001b[43mvar\u001b[49m\u001b[43m,\u001b[49m\u001b[43m \u001b[49m\u001b[43mcomp_col\u001b[49m\u001b[43m)\u001b[49m\n\u001b[1;32m   1008\u001b[0m     \u001b[38;5;28mself\u001b[39m\u001b[38;5;241m.\u001b[39m_comp_data \u001b[38;5;241m=\u001b[39m comp_data\n\u001b[1;32m   1010\u001b[0m \u001b[38;5;28;01mreturn\u001b[39;00m \u001b[38;5;28mself\u001b[39m\u001b[38;5;241m.\u001b[39m_comp_data\n",
      "File \u001b[0;32m~/Documents/Fall 2023/Data Analytic/Final Project/dataAnalysis/lib/python3.11/site-packages/pandas/core/frame.py:4944\u001b[0m, in \u001b[0;36mDataFrame.insert\u001b[0;34m(self, loc, column, value, allow_duplicates)\u001b[0m\n\u001b[1;32m   4941\u001b[0m \u001b[38;5;28;01melif\u001b[39;00m \u001b[38;5;28misinstance\u001b[39m(value, DataFrame):\n\u001b[1;32m   4942\u001b[0m     value \u001b[38;5;241m=\u001b[39m value\u001b[38;5;241m.\u001b[39miloc[:, \u001b[38;5;241m0\u001b[39m]\n\u001b[0;32m-> 4944\u001b[0m value, refs \u001b[38;5;241m=\u001b[39m \u001b[38;5;28;43mself\u001b[39;49m\u001b[38;5;241;43m.\u001b[39;49m\u001b[43m_sanitize_column\u001b[49m\u001b[43m(\u001b[49m\u001b[43mvalue\u001b[49m\u001b[43m)\u001b[49m\n\u001b[1;32m   4945\u001b[0m \u001b[38;5;28mself\u001b[39m\u001b[38;5;241m.\u001b[39m_mgr\u001b[38;5;241m.\u001b[39minsert(loc, column, value, refs\u001b[38;5;241m=\u001b[39mrefs)\n",
      "File \u001b[0;32m~/Documents/Fall 2023/Data Analytic/Final Project/dataAnalysis/lib/python3.11/site-packages/pandas/core/frame.py:5036\u001b[0m, in \u001b[0;36mDataFrame._sanitize_column\u001b[0;34m(self, value)\u001b[0m\n\u001b[1;32m   5034\u001b[0m     \u001b[38;5;28;01mif\u001b[39;00m \u001b[38;5;129;01mnot\u001b[39;00m \u001b[38;5;28misinstance\u001b[39m(value, Series):\n\u001b[1;32m   5035\u001b[0m         value \u001b[38;5;241m=\u001b[39m Series(value)\n\u001b[0;32m-> 5036\u001b[0m     \u001b[38;5;28;01mreturn\u001b[39;00m \u001b[43m_reindex_for_setitem\u001b[49m\u001b[43m(\u001b[49m\u001b[43mvalue\u001b[49m\u001b[43m,\u001b[49m\u001b[43m \u001b[49m\u001b[38;5;28;43mself\u001b[39;49m\u001b[38;5;241;43m.\u001b[39;49m\u001b[43mindex\u001b[49m\u001b[43m)\u001b[49m\n\u001b[1;32m   5038\u001b[0m \u001b[38;5;28;01mif\u001b[39;00m is_list_like(value):\n\u001b[1;32m   5039\u001b[0m     com\u001b[38;5;241m.\u001b[39mrequire_length_match(value, \u001b[38;5;28mself\u001b[39m\u001b[38;5;241m.\u001b[39mindex)\n",
      "File \u001b[0;32m~/Documents/Fall 2023/Data Analytic/Final Project/dataAnalysis/lib/python3.11/site-packages/pandas/core/frame.py:12309\u001b[0m, in \u001b[0;36m_reindex_for_setitem\u001b[0;34m(value, index)\u001b[0m\n\u001b[1;32m  12305\u001b[0m \u001b[38;5;28;01mexcept\u001b[39;00m \u001b[38;5;167;01mValueError\u001b[39;00m \u001b[38;5;28;01mas\u001b[39;00m err:\n\u001b[1;32m  12306\u001b[0m     \u001b[38;5;66;03m# raised in MultiIndex.from_tuples, see test_insert_error_msmgs\u001b[39;00m\n\u001b[1;32m  12307\u001b[0m     \u001b[38;5;28;01mif\u001b[39;00m \u001b[38;5;129;01mnot\u001b[39;00m value\u001b[38;5;241m.\u001b[39mindex\u001b[38;5;241m.\u001b[39mis_unique:\n\u001b[1;32m  12308\u001b[0m         \u001b[38;5;66;03m# duplicate axis\u001b[39;00m\n\u001b[0;32m> 12309\u001b[0m         \u001b[38;5;28;01mraise\u001b[39;00m err\n\u001b[1;32m  12311\u001b[0m     \u001b[38;5;28;01mraise\u001b[39;00m \u001b[38;5;167;01mTypeError\u001b[39;00m(\n\u001b[1;32m  12312\u001b[0m         \u001b[38;5;124m\"\u001b[39m\u001b[38;5;124mincompatible index of inserted column with frame index\u001b[39m\u001b[38;5;124m\"\u001b[39m\n\u001b[1;32m  12313\u001b[0m     ) \u001b[38;5;28;01mfrom\u001b[39;00m \u001b[38;5;21;01merr\u001b[39;00m\n\u001b[1;32m  12314\u001b[0m \u001b[38;5;28;01mreturn\u001b[39;00m reindexed_value, \u001b[38;5;28;01mNone\u001b[39;00m\n",
      "File \u001b[0;32m~/Documents/Fall 2023/Data Analytic/Final Project/dataAnalysis/lib/python3.11/site-packages/pandas/core/frame.py:12304\u001b[0m, in \u001b[0;36m_reindex_for_setitem\u001b[0;34m(value, index)\u001b[0m\n\u001b[1;32m  12302\u001b[0m \u001b[38;5;66;03m# GH#4107\u001b[39;00m\n\u001b[1;32m  12303\u001b[0m \u001b[38;5;28;01mtry\u001b[39;00m:\n\u001b[0;32m> 12304\u001b[0m     reindexed_value \u001b[38;5;241m=\u001b[39m \u001b[43mvalue\u001b[49m\u001b[38;5;241;43m.\u001b[39;49m\u001b[43mreindex\u001b[49m\u001b[43m(\u001b[49m\u001b[43mindex\u001b[49m\u001b[43m)\u001b[49m\u001b[38;5;241m.\u001b[39m_values\n\u001b[1;32m  12305\u001b[0m \u001b[38;5;28;01mexcept\u001b[39;00m \u001b[38;5;167;01mValueError\u001b[39;00m \u001b[38;5;28;01mas\u001b[39;00m err:\n\u001b[1;32m  12306\u001b[0m     \u001b[38;5;66;03m# raised in MultiIndex.from_tuples, see test_insert_error_msmgs\u001b[39;00m\n\u001b[1;32m  12307\u001b[0m     \u001b[38;5;28;01mif\u001b[39;00m \u001b[38;5;129;01mnot\u001b[39;00m value\u001b[38;5;241m.\u001b[39mindex\u001b[38;5;241m.\u001b[39mis_unique:\n\u001b[1;32m  12308\u001b[0m         \u001b[38;5;66;03m# duplicate axis\u001b[39;00m\n",
      "File \u001b[0;32m~/Documents/Fall 2023/Data Analytic/Final Project/dataAnalysis/lib/python3.11/site-packages/pandas/core/series.py:4977\u001b[0m, in \u001b[0;36mSeries.reindex\u001b[0;34m(self, index, axis, method, copy, level, fill_value, limit, tolerance)\u001b[0m\n\u001b[1;32m   4960\u001b[0m \u001b[38;5;129m@doc\u001b[39m(\n\u001b[1;32m   4961\u001b[0m     NDFrame\u001b[38;5;241m.\u001b[39mreindex,  \u001b[38;5;66;03m# type: ignore[has-type]\u001b[39;00m\n\u001b[1;32m   4962\u001b[0m     klass\u001b[38;5;241m=\u001b[39m_shared_doc_kwargs[\u001b[38;5;124m\"\u001b[39m\u001b[38;5;124mklass\u001b[39m\u001b[38;5;124m\"\u001b[39m],\n\u001b[0;32m   (...)\u001b[0m\n\u001b[1;32m   4975\u001b[0m     tolerance\u001b[38;5;241m=\u001b[39m\u001b[38;5;28;01mNone\u001b[39;00m,\n\u001b[1;32m   4976\u001b[0m ) \u001b[38;5;241m-\u001b[39m\u001b[38;5;241m>\u001b[39m Series:\n\u001b[0;32m-> 4977\u001b[0m     \u001b[38;5;28;01mreturn\u001b[39;00m \u001b[38;5;28;43msuper\u001b[39;49m\u001b[43m(\u001b[49m\u001b[43m)\u001b[49m\u001b[38;5;241;43m.\u001b[39;49m\u001b[43mreindex\u001b[49m\u001b[43m(\u001b[49m\n\u001b[1;32m   4978\u001b[0m \u001b[43m        \u001b[49m\u001b[43mindex\u001b[49m\u001b[38;5;241;43m=\u001b[39;49m\u001b[43mindex\u001b[49m\u001b[43m,\u001b[49m\n\u001b[1;32m   4979\u001b[0m \u001b[43m        \u001b[49m\u001b[43mmethod\u001b[49m\u001b[38;5;241;43m=\u001b[39;49m\u001b[43mmethod\u001b[49m\u001b[43m,\u001b[49m\n\u001b[1;32m   4980\u001b[0m \u001b[43m        \u001b[49m\u001b[43mcopy\u001b[49m\u001b[38;5;241;43m=\u001b[39;49m\u001b[43mcopy\u001b[49m\u001b[43m,\u001b[49m\n\u001b[1;32m   4981\u001b[0m \u001b[43m        \u001b[49m\u001b[43mlevel\u001b[49m\u001b[38;5;241;43m=\u001b[39;49m\u001b[43mlevel\u001b[49m\u001b[43m,\u001b[49m\n\u001b[1;32m   4982\u001b[0m \u001b[43m        \u001b[49m\u001b[43mfill_value\u001b[49m\u001b[38;5;241;43m=\u001b[39;49m\u001b[43mfill_value\u001b[49m\u001b[43m,\u001b[49m\n\u001b[1;32m   4983\u001b[0m \u001b[43m        \u001b[49m\u001b[43mlimit\u001b[49m\u001b[38;5;241;43m=\u001b[39;49m\u001b[43mlimit\u001b[49m\u001b[43m,\u001b[49m\n\u001b[1;32m   4984\u001b[0m \u001b[43m        \u001b[49m\u001b[43mtolerance\u001b[49m\u001b[38;5;241;43m=\u001b[39;49m\u001b[43mtolerance\u001b[49m\u001b[43m,\u001b[49m\n\u001b[1;32m   4985\u001b[0m \u001b[43m    \u001b[49m\u001b[43m)\u001b[49m\n",
      "File \u001b[0;32m~/Documents/Fall 2023/Data Analytic/Final Project/dataAnalysis/lib/python3.11/site-packages/pandas/core/generic.py:5521\u001b[0m, in \u001b[0;36mNDFrame.reindex\u001b[0;34m(self, labels, index, columns, axis, method, copy, level, fill_value, limit, tolerance)\u001b[0m\n\u001b[1;32m   5518\u001b[0m     \u001b[38;5;28;01mreturn\u001b[39;00m \u001b[38;5;28mself\u001b[39m\u001b[38;5;241m.\u001b[39m_reindex_multi(axes, copy, fill_value)\n\u001b[1;32m   5520\u001b[0m \u001b[38;5;66;03m# perform the reindex on the axes\u001b[39;00m\n\u001b[0;32m-> 5521\u001b[0m \u001b[38;5;28;01mreturn\u001b[39;00m \u001b[38;5;28;43mself\u001b[39;49m\u001b[38;5;241;43m.\u001b[39;49m\u001b[43m_reindex_axes\u001b[49m\u001b[43m(\u001b[49m\n\u001b[1;32m   5522\u001b[0m \u001b[43m    \u001b[49m\u001b[43maxes\u001b[49m\u001b[43m,\u001b[49m\u001b[43m \u001b[49m\u001b[43mlevel\u001b[49m\u001b[43m,\u001b[49m\u001b[43m \u001b[49m\u001b[43mlimit\u001b[49m\u001b[43m,\u001b[49m\u001b[43m \u001b[49m\u001b[43mtolerance\u001b[49m\u001b[43m,\u001b[49m\u001b[43m \u001b[49m\u001b[43mmethod\u001b[49m\u001b[43m,\u001b[49m\u001b[43m \u001b[49m\u001b[43mfill_value\u001b[49m\u001b[43m,\u001b[49m\u001b[43m \u001b[49m\u001b[43mcopy\u001b[49m\n\u001b[1;32m   5523\u001b[0m \u001b[43m\u001b[49m\u001b[43m)\u001b[49m\u001b[38;5;241m.\u001b[39m__finalize__(\u001b[38;5;28mself\u001b[39m, method\u001b[38;5;241m=\u001b[39m\u001b[38;5;124m\"\u001b[39m\u001b[38;5;124mreindex\u001b[39m\u001b[38;5;124m\"\u001b[39m)\n",
      "File \u001b[0;32m~/Documents/Fall 2023/Data Analytic/Final Project/dataAnalysis/lib/python3.11/site-packages/pandas/core/generic.py:5544\u001b[0m, in \u001b[0;36mNDFrame._reindex_axes\u001b[0;34m(self, axes, level, limit, tolerance, method, fill_value, copy)\u001b[0m\n\u001b[1;32m   5541\u001b[0m     \u001b[38;5;28;01mcontinue\u001b[39;00m\n\u001b[1;32m   5543\u001b[0m ax \u001b[38;5;241m=\u001b[39m \u001b[38;5;28mself\u001b[39m\u001b[38;5;241m.\u001b[39m_get_axis(a)\n\u001b[0;32m-> 5544\u001b[0m new_index, indexer \u001b[38;5;241m=\u001b[39m \u001b[43max\u001b[49m\u001b[38;5;241;43m.\u001b[39;49m\u001b[43mreindex\u001b[49m\u001b[43m(\u001b[49m\n\u001b[1;32m   5545\u001b[0m \u001b[43m    \u001b[49m\u001b[43mlabels\u001b[49m\u001b[43m,\u001b[49m\u001b[43m \u001b[49m\u001b[43mlevel\u001b[49m\u001b[38;5;241;43m=\u001b[39;49m\u001b[43mlevel\u001b[49m\u001b[43m,\u001b[49m\u001b[43m \u001b[49m\u001b[43mlimit\u001b[49m\u001b[38;5;241;43m=\u001b[39;49m\u001b[43mlimit\u001b[49m\u001b[43m,\u001b[49m\u001b[43m \u001b[49m\u001b[43mtolerance\u001b[49m\u001b[38;5;241;43m=\u001b[39;49m\u001b[43mtolerance\u001b[49m\u001b[43m,\u001b[49m\u001b[43m \u001b[49m\u001b[43mmethod\u001b[49m\u001b[38;5;241;43m=\u001b[39;49m\u001b[43mmethod\u001b[49m\n\u001b[1;32m   5546\u001b[0m \u001b[43m\u001b[49m\u001b[43m)\u001b[49m\n\u001b[1;32m   5548\u001b[0m axis \u001b[38;5;241m=\u001b[39m \u001b[38;5;28mself\u001b[39m\u001b[38;5;241m.\u001b[39m_get_axis_number(a)\n\u001b[1;32m   5549\u001b[0m obj \u001b[38;5;241m=\u001b[39m obj\u001b[38;5;241m.\u001b[39m_reindex_with_indexers(\n\u001b[1;32m   5550\u001b[0m     {axis: [new_index, indexer]},\n\u001b[1;32m   5551\u001b[0m     fill_value\u001b[38;5;241m=\u001b[39mfill_value,\n\u001b[1;32m   5552\u001b[0m     copy\u001b[38;5;241m=\u001b[39mcopy,\n\u001b[1;32m   5553\u001b[0m     allow_dups\u001b[38;5;241m=\u001b[39m\u001b[38;5;28;01mFalse\u001b[39;00m,\n\u001b[1;32m   5554\u001b[0m )\n",
      "File \u001b[0;32m~/Documents/Fall 2023/Data Analytic/Final Project/dataAnalysis/lib/python3.11/site-packages/pandas/core/indexes/base.py:4433\u001b[0m, in \u001b[0;36mIndex.reindex\u001b[0;34m(self, target, method, level, limit, tolerance)\u001b[0m\n\u001b[1;32m   4430\u001b[0m     \u001b[38;5;28;01mraise\u001b[39;00m \u001b[38;5;167;01mValueError\u001b[39;00m(\u001b[38;5;124m\"\u001b[39m\u001b[38;5;124mcannot handle a non-unique multi-index!\u001b[39m\u001b[38;5;124m\"\u001b[39m)\n\u001b[1;32m   4431\u001b[0m \u001b[38;5;28;01melif\u001b[39;00m \u001b[38;5;129;01mnot\u001b[39;00m \u001b[38;5;28mself\u001b[39m\u001b[38;5;241m.\u001b[39mis_unique:\n\u001b[1;32m   4432\u001b[0m     \u001b[38;5;66;03m# GH#42568\u001b[39;00m\n\u001b[0;32m-> 4433\u001b[0m     \u001b[38;5;28;01mraise\u001b[39;00m \u001b[38;5;167;01mValueError\u001b[39;00m(\u001b[38;5;124m\"\u001b[39m\u001b[38;5;124mcannot reindex on an axis with duplicate labels\u001b[39m\u001b[38;5;124m\"\u001b[39m)\n\u001b[1;32m   4434\u001b[0m \u001b[38;5;28;01melse\u001b[39;00m:\n\u001b[1;32m   4435\u001b[0m     indexer, _ \u001b[38;5;241m=\u001b[39m \u001b[38;5;28mself\u001b[39m\u001b[38;5;241m.\u001b[39mget_indexer_non_unique(target)\n",
      "\u001b[0;31mValueError\u001b[0m: cannot reindex on an axis with duplicate labels"
     ]
    },
    {
     "data": {
      "image/png": "[encoded data removed]",
      "text/plain": [
       "<Figure size 1200x600 with 1 Axes>"
      ]
     },
     "metadata": {},
     "output_type": "display_data"
    }
   ],
   "source": [
    "# Convert 'Time' to datetime for time-based analysis\n",
    "df['Time'] = pd.to_datetime(df['Time'], format='%Y')\n",
    "\n",
    "# Descriptive Analysis: Time Trends\n",
    "plt.figure(figsize=(12, 6))\n",
    "sns.lineplot(x='Time', y='Renewable energy consumption (TJ)', data=df)\n",
    "plt.title('Renewable Energy Consumption Over Time')\n",
    "plt.xlabel('Year')\n",
    "plt.ylabel('Renewable Energy Consumption (TJ)')\n",
    "plt.grid(True)\n",
    "plt.show()\n",
    "\n",
    "# Descriptive Analysis: Regional Comparisons\n",
    "regional_comparison = df.groupby('Country Code')['Renewable energy consumption (TJ)'].mean().reset_index()\n",
    "\n",
    "plt.figure(figsize=(12, 6))\n",
    "sns.barplot(x='Country Code', y='Renewable energy consumption (TJ)', data=regional_comparison)\n",
    "plt.title('Average Renewable Energy Consumption by Country')\n",
    "plt.xlabel('Country Code')\n",
    "plt.ylabel('Average Renewable Energy Consumption (TJ)')\n",
    "plt.xticks(rotation=45, ha='right')\n",
    "plt.show()\n",
    "\n",
    "# Descriptive Analysis: Distribution Analysis\n",
    "plt.figure(figsize=(12, 6))\n",
    "sns.boxplot(x='Country Code', y='Renewable energy consumption (TJ)', data=df)\n",
    "plt.title('Distribution of Renewable Energy Consumption by Country')\n",
    "plt.xlabel('Country Code')\n",
    "plt.ylabel('Renewable Energy Consumption (TJ)')\n",
    "plt.xticks(rotation=45, ha='right')\n",
    "plt.show()\n"
   ]
  },
  {
   "cell_type": "code",
   "execution_count": null,
   "id": "28090b86-b008-4f4b-af68-aa90a4212201",
   "metadata": {},
   "outputs": [],
   "source": []
  }
 ],
 "metadata": {
  "kernelspec": {
   "display_name": "Python 3 (ipykernel)",
   "language": "python",
   "name": "python3"
  },
  "language_info": {
   "codemirror_mode": {
    "name": "ipython",
    "version": 3
   },
   "file_extension": ".py",
   "mimetype": "text/x-python",
   "name": "python",
   "nbconvert_exporter": "python",
   "pygments_lexer": "ipython3",
   "version": "3.11.3"
  }
 },
 "nbformat": 4,
 "nbformat_minor": 5
}
